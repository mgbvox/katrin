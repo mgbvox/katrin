{
 "cells": [
  {
   "cell_type": "code",
   "execution_count": 2,
   "metadata": {},
   "outputs": [
    {
     "name": "stdout",
     "output_type": "stream",
     "text": [
      "Populating the interactive namespace from numpy and matplotlib\n"
     ]
    }
   ],
   "source": [
    "%pylab inline\n",
    "import pandas as pd\n",
    "import pyreadstat\n",
    "import swifter"
   ]
  },
  {
   "cell_type": "code",
   "execution_count": 40,
   "metadata": {},
   "outputs": [],
   "source": [
    "df = pd.read_csv('23_extraction/GSS.dat', sep='\\s+', header=None)\n",
    "cols = ['Gss year for this respondent',\n",
    "        'Who set working hours',\n",
    "        'Where do you work',\n",
    "        'Describe your present job situation',\n",
    "        'I am proud working for my firm',\n",
    "        'I would change my job for something else',\n",
    "        'Do you worry about losing job',\n",
    "        'Ballot used for interview',\n",
    "        'Percentage of $45k+ earners in occ10 based on acs 2010',\n",
    "        'Percentage of some college educ in maocc10 based on acs 2010',\n",
    "        'X is experiencing mental illness',\n",
    "        'X s situation caused by: stress',\n",
    "        'Days of poor mental health past 30 days',\n",
    "        'Respondent id number',\n",
    "        'How likely x is experiencing mental illness',\n",
    "        'How likely x is experiencing physical illness',\n",
    "        'Should govt provide health care for mental illness',\n",
    "        'When feelings of mental illness happened ',\n",
    "        'Duration/severity of feelings of mental illness',\n",
    "        'How long have worked at this location',\n",
    "        'Have health insurance',\n",
    "        'Were able to get mental health care',\n",
    "        'Do you work weekends']\n",
    "\n",
    "df.columns = cols"
   ]
  },
  {
   "cell_type": "code",
   "execution_count": 45,
   "metadata": {},
   "outputs": [],
   "source": [
    "df['z_counts'] = (df==0).sum(axis=1)"
   ]
  },
  {
   "cell_type": "code",
   "execution_count": 50,
   "metadata": {},
   "outputs": [
    {
     "data": {
      "text/plain": [
       "16    30036\n",
       "17    26914\n",
       "14     3013\n",
       "13     1809\n",
       "15     1135\n",
       "11     1002\n",
       "9       755\n",
       "8        80\n",
       "12       40\n",
       "10       30\n",
       "Name: z_counts, dtype: int64"
      ]
     },
     "execution_count": 50,
     "metadata": {},
     "output_type": "execute_result"
    }
   ],
   "source": [
    "df.z_counts.value_counts()"
   ]
  },
  {
   "cell_type": "code",
   "execution_count": 49,
   "metadata": {},
   "outputs": [
    {
     "data": {
      "text/plain": [
       "[<matplotlib.lines.Line2D at 0x12ab1c3c8>]"
      ]
     },
     "execution_count": 49,
     "metadata": {},
     "output_type": "execute_result"
    },
    {
     "data": {
      "image/png": "[encoded data removed]",
      "text/plain": [
       "<Figure size 432x288 with 1 Axes>"
      ]
     },
     "metadata": {
      "needs_background": "light"
     },
     "output_type": "display_data"
    }
   ],
   "source": [
    "plt.plot(df.z_counts.value_counts().values)"
   ]
  },
  {
   "cell_type": "code",
   "execution_count": 63,
   "metadata": {},
   "outputs": [
    {
     "data": {
      "text/plain": [
       "7864"
      ]
     },
     "execution_count": 63,
     "metadata": {},
     "output_type": "execute_result"
    }
   ],
   "source": [
    "len(df[df.z_counts < 16])"
   ]
  },
  {
   "cell_type": "code",
   "execution_count": 81,
   "metadata": {},
   "outputs": [],
   "source": [
    "df = df[df.z_counts < 16]"
   ]
  },
  {
   "cell_type": "code",
   "execution_count": 83,
   "metadata": {},
   "outputs": [
    {
     "data": {
      "text/plain": [
       "<matplotlib.axes._subplots.AxesSubplot at 0x13546d128>"
      ]
     },
     "execution_count": 83,
     "metadata": {},
     "output_type": "execute_result"
    },
    {
     "data": {
      "image/png": "[encoded data removed]",
      "text/plain": [
       "<Figure size 432x288 with 1 Axes>"
      ]
     },
     "metadata": {
      "needs_background": "light"
     },
     "output_type": "display_data"
    }
   ],
   "source": [
    "df['I am proud working for my firm'].where(lambda x: x>0).plot.hist()"
   ]
  },
  {
   "cell_type": "code",
   "execution_count": 99,
   "metadata": {},
   "outputs": [],
   "source": [
    "sq_corr = df.corr().values**2"
   ]
  },
  {
   "cell_type": "code",
   "execution_count": 134,
   "metadata": {},
   "outputs": [],
   "source": [
    "thresh = .5\n",
    "x, y = np.where((sq_corr > sq_corr.max()-(1-thresh)) & (sq_corr != 1))"
   ]
  },
  {
   "cell_type": "code",
   "execution_count": 135,
   "metadata": {},
   "outputs": [
    {
     "name": "stdout",
     "output_type": "stream",
     "text": [
      "Correlated Columns (r2 > 0.5)\n",
      "\n",
      "\"Who set working hours\" + \n",
      "\"z_counts\"\n",
      "r2 = 0.507\n",
      "\n",
      "\"Describe your present job situation\" + \n",
      "\"I would change my job for something else\"\n",
      "r2 = 0.598\n",
      "\n",
      "\"I would change my job for something else\" + \n",
      "\"Where do you work\"\n",
      "r2 = 0.523\n",
      "\n",
      "\"Do you worry about losing job\" + \n",
      "\"I am proud working for my firm\"\n",
      "r2 = 0.637\n",
      "\n",
      "\"X s situation caused by: stress\" + \n",
      "\"X is experiencing mental illness\"\n",
      "r2 = 0.705\n",
      "\n",
      "\"How likely x is experiencing physical illness\" + \n",
      "\"How likely x is experiencing mental illness\"\n",
      "r2 = 0.684\n",
      "\n",
      "\"Duration/severity of feelings of mental illness\" + \n",
      "\"When feelings of mental illness happened \"\n",
      "r2 = 0.751\n",
      "\n"
     ]
    }
   ],
   "source": [
    "print(f'Correlated Columns (r2 > {thresh})')\n",
    "print('')\n",
    "for c1,c2 in list(zip(df.columns[x], df.columns[y]))[0::2]:\n",
    "    print(f'\"{c1}\" + \\n\"{c2}\"')\n",
    "    print(f'r2 = {np.round(df[c1].corr(df[c2])**2,3)}')\n",
    "    print('')"
   ]
  },
  {
   "cell_type": "code",
   "execution_count": 131,
   "metadata": {},
   "outputs": [
    {
     "data": {
      "text/plain": [
       "<matplotlib.axes._subplots.AxesSubplot at 0x13146b8d0>"
      ]
     },
     "execution_count": 131,
     "metadata": {},
     "output_type": "execute_result"
    },
    {
     "data": {
      "image/png": "[encoded data removed]",
      "text/plain": [
       "<Figure size 432x288 with 1 Axes>"
      ]
     },
     "metadata": {
      "needs_background": "light"
     },
     "output_type": "display_data"
    }
   ],
   "source": [
    "df.plot.scatter('I am proud working for my firm', 'X is experiencing mental illness')"
   ]
  },
  {
   "cell_type": "code",
   "execution_count": null,
   "metadata": {},
   "outputs": [],
   "source": []
  }
 ],
 "metadata": {
  "kernelspec": {
   "display_name": "data_science",
   "language": "python",
   "name": "data_science"
  },
  "language_info": {
   "codemirror_mode": {
    "name": "ipython",
    "version": 3
   },
   "file_extension": ".py",
   "mimetype": "text/x-python",
   "name": "python",
   "nbconvert_exporter": "python",
   "pygments_lexer": "ipython3",
   "version": "3.6.7"
  }
 },
 "nbformat": 4,
 "nbformat_minor": 2
}
