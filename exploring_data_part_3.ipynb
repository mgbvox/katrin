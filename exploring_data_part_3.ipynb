{
 "cells": [
  {
   "cell_type": "code",
   "execution_count": 3,
   "metadata": {},
   "outputs": [
    {
     "name": "stdout",
     "output_type": "stream",
     "text": [
      "Populating the interactive namespace from numpy and matplotlib\n"
     ]
    }
   ],
   "source": [
    "%pylab inline\n",
    "import pandas as pd\n",
    "import swifter\n",
    "from scipy.stats import ttest_ind"
   ]
  },
  {
   "cell_type": "code",
   "execution_count": 4,
   "metadata": {},
   "outputs": [],
   "source": [
    "data = pd.read_excel('GSS_Katrin_10-22.xls')\n",
    "data.columns = [c.strip() for c in data.columns]\n",
    "data = pd.concat([pd.to_numeric(data[c], downcast='float', errors='ignore') for c in data.columns], axis=1)\n",
    "data = data.replace('Not applicable', np.nan)"
   ]
  },
  {
   "cell_type": "code",
   "execution_count": 5,
   "metadata": {},
   "outputs": [],
   "source": [
    "def cast_to_float(x):\n",
    "    try:\n",
    "        x = float(x)\n",
    "        return x\n",
    "    except:\n",
    "        return np.nan\n",
    "\n",
    "numeric_castable = ['Miss work for health past 30 days',\n",
    "                    'Days of poor mental health past 30 days',\n",
    "                    'Days of poor physical health past 30 days',\n",
    "                    'Percentage of some college educ in maocc10 based on acs 2010',\n",
    "                    'Percentage of $45k+ earners in occ10 based on acs 2010',\n",
    "                    'When did your last paid job end',\n",
    "                    'Number of hours worked last week',\n",
    "                    'Respondent id number',\n",
    "                    'How long have worked at this location',\n",
    "                    'Gss year for this respondent']\n",
    "\n",
    "numeric = pd.concat([data[c].apply(cast_to_float) for c in numeric_castable], axis=1)"
   ]
  },
  {
   "cell_type": "code",
   "execution_count": 6,
   "metadata": {},
   "outputs": [
    {
     "data": {
      "text/html": [
       "<div>\n",
       "<style scoped>\n",
       "    .dataframe tbody tr th:only-of-type {\n",
       "        vertical-align: middle;\n",
       "    }\n",
       "\n",
       "    .dataframe tbody tr th {\n",
       "        vertical-align: top;\n",
       "    }\n",
       "\n",
       "    .dataframe thead th {\n",
       "        text-align: right;\n",
       "    }\n",
       "</style>\n",
       "<table border=\"1\" class=\"dataframe\">\n",
       "  <thead>\n",
       "    <tr style=\"text-align: right;\">\n",
       "      <th></th>\n",
       "      <th>Miss work for health past 30 days</th>\n",
       "      <th>Days of poor mental health past 30 days</th>\n",
       "      <th>Days of poor physical health past 30 days</th>\n",
       "      <th>Percentage of some college educ in maocc10 based on acs 2010</th>\n",
       "      <th>Percentage of $45k+ earners in occ10 based on acs 2010</th>\n",
       "      <th>When did your last paid job end</th>\n",
       "      <th>Number of hours worked last week</th>\n",
       "      <th>Respondent id number</th>\n",
       "      <th>How long have worked at this location</th>\n",
       "      <th>Gss year for this respondent</th>\n",
       "    </tr>\n",
       "  </thead>\n",
       "  <tbody>\n",
       "    <tr>\n",
       "      <th>Miss work for health past 30 days</th>\n",
       "      <td>1.000000</td>\n",
       "      <td>0.213688</td>\n",
       "      <td>0.406128</td>\n",
       "      <td>-0.020229</td>\n",
       "      <td>-0.033479</td>\n",
       "      <td>NaN</td>\n",
       "      <td>-0.111289</td>\n",
       "      <td>0.003969</td>\n",
       "      <td>NaN</td>\n",
       "      <td>0.036412</td>\n",
       "    </tr>\n",
       "    <tr>\n",
       "      <th>Days of poor mental health past 30 days</th>\n",
       "      <td>0.213688</td>\n",
       "      <td>1.000000</td>\n",
       "      <td>0.311221</td>\n",
       "      <td>0.016117</td>\n",
       "      <td>-0.076500</td>\n",
       "      <td>NaN</td>\n",
       "      <td>-0.010308</td>\n",
       "      <td>0.005275</td>\n",
       "      <td>NaN</td>\n",
       "      <td>-0.014084</td>\n",
       "    </tr>\n",
       "    <tr>\n",
       "      <th>Days of poor physical health past 30 days</th>\n",
       "      <td>0.406128</td>\n",
       "      <td>0.311221</td>\n",
       "      <td>1.000000</td>\n",
       "      <td>-0.030021</td>\n",
       "      <td>-0.073758</td>\n",
       "      <td>NaN</td>\n",
       "      <td>-0.053067</td>\n",
       "      <td>0.008375</td>\n",
       "      <td>NaN</td>\n",
       "      <td>0.003646</td>\n",
       "    </tr>\n",
       "    <tr>\n",
       "      <th>Percentage of some college educ in maocc10 based on acs 2010</th>\n",
       "      <td>-0.020229</td>\n",
       "      <td>0.016117</td>\n",
       "      <td>-0.030021</td>\n",
       "      <td>1.000000</td>\n",
       "      <td>0.124836</td>\n",
       "      <td>-0.079209</td>\n",
       "      <td>0.026306</td>\n",
       "      <td>-0.094350</td>\n",
       "      <td>-0.010920</td>\n",
       "      <td>0.106258</td>\n",
       "    </tr>\n",
       "    <tr>\n",
       "      <th>Percentage of $45k+ earners in occ10 based on acs 2010</th>\n",
       "      <td>-0.033479</td>\n",
       "      <td>-0.076500</td>\n",
       "      <td>-0.073758</td>\n",
       "      <td>0.124836</td>\n",
       "      <td>1.000000</td>\n",
       "      <td>0.117585</td>\n",
       "      <td>0.199867</td>\n",
       "      <td>-0.067295</td>\n",
       "      <td>0.025403</td>\n",
       "      <td>0.019395</td>\n",
       "    </tr>\n",
       "    <tr>\n",
       "      <th>When did your last paid job end</th>\n",
       "      <td>NaN</td>\n",
       "      <td>NaN</td>\n",
       "      <td>NaN</td>\n",
       "      <td>-0.079209</td>\n",
       "      <td>0.117585</td>\n",
       "      <td>1.000000</td>\n",
       "      <td>0.369236</td>\n",
       "      <td>0.098054</td>\n",
       "      <td>-0.028234</td>\n",
       "      <td>0.328655</td>\n",
       "    </tr>\n",
       "    <tr>\n",
       "      <th>Number of hours worked last week</th>\n",
       "      <td>-0.111289</td>\n",
       "      <td>-0.010308</td>\n",
       "      <td>-0.053067</td>\n",
       "      <td>0.026306</td>\n",
       "      <td>0.199867</td>\n",
       "      <td>0.369236</td>\n",
       "      <td>1.000000</td>\n",
       "      <td>0.028593</td>\n",
       "      <td>-0.008411</td>\n",
       "      <td>-0.017030</td>\n",
       "    </tr>\n",
       "    <tr>\n",
       "      <th>Respondent id number</th>\n",
       "      <td>0.003969</td>\n",
       "      <td>0.005275</td>\n",
       "      <td>0.008375</td>\n",
       "      <td>-0.094350</td>\n",
       "      <td>-0.067295</td>\n",
       "      <td>0.098054</td>\n",
       "      <td>0.028593</td>\n",
       "      <td>1.000000</td>\n",
       "      <td>-0.006826</td>\n",
       "      <td>-0.109808</td>\n",
       "    </tr>\n",
       "    <tr>\n",
       "      <th>How long have worked at this location</th>\n",
       "      <td>NaN</td>\n",
       "      <td>NaN</td>\n",
       "      <td>NaN</td>\n",
       "      <td>-0.010920</td>\n",
       "      <td>0.025403</td>\n",
       "      <td>-0.028234</td>\n",
       "      <td>-0.008411</td>\n",
       "      <td>-0.006826</td>\n",
       "      <td>1.000000</td>\n",
       "      <td>-0.164692</td>\n",
       "    </tr>\n",
       "    <tr>\n",
       "      <th>Gss year for this respondent</th>\n",
       "      <td>0.036412</td>\n",
       "      <td>-0.014084</td>\n",
       "      <td>0.003646</td>\n",
       "      <td>0.106258</td>\n",
       "      <td>0.019395</td>\n",
       "      <td>0.328655</td>\n",
       "      <td>-0.017030</td>\n",
       "      <td>-0.109808</td>\n",
       "      <td>-0.164692</td>\n",
       "      <td>1.000000</td>\n",
       "    </tr>\n",
       "  </tbody>\n",
       "</table>\n",
       "</div>"
      ],
      "text/plain": [
       "                                                    Miss work for health past 30 days  \\\n",
       "Miss work for health past 30 days                                            1.000000   \n",
       "Days of poor mental health past 30 days                                      0.213688   \n",
       "Days of poor physical health past 30 days                                    0.406128   \n",
       "Percentage of some college educ in maocc10 base...                          -0.020229   \n",
       "Percentage of $45k+ earners in occ10 based on a...                          -0.033479   \n",
       "When did your last paid job end                                                   NaN   \n",
       "Number of hours worked last week                                            -0.111289   \n",
       "Respondent id number                                                         0.003969   \n",
       "How long have worked at this location                                             NaN   \n",
       "Gss year for this respondent                                                 0.036412   \n",
       "\n",
       "                                                    Days of poor mental health past 30 days  \\\n",
       "Miss work for health past 30 days                                                  0.213688   \n",
       "Days of poor mental health past 30 days                                            1.000000   \n",
       "Days of poor physical health past 30 days                                          0.311221   \n",
       "Percentage of some college educ in maocc10 base...                                 0.016117   \n",
       "Percentage of $45k+ earners in occ10 based on a...                                -0.076500   \n",
       "When did your last paid job end                                                         NaN   \n",
       "Number of hours worked last week                                                  -0.010308   \n",
       "Respondent id number                                                               0.005275   \n",
       "How long have worked at this location                                                   NaN   \n",
       "Gss year for this respondent                                                      -0.014084   \n",
       "\n",
       "                                                    Days of poor physical health past 30 days  \\\n",
       "Miss work for health past 30 days                                                    0.406128   \n",
       "Days of poor mental health past 30 days                                              0.311221   \n",
       "Days of poor physical health past 30 days                                            1.000000   \n",
       "Percentage of some college educ in maocc10 base...                                  -0.030021   \n",
       "Percentage of $45k+ earners in occ10 based on a...                                  -0.073758   \n",
       "When did your last paid job end                                                           NaN   \n",
       "Number of hours worked last week                                                    -0.053067   \n",
       "Respondent id number                                                                 0.008375   \n",
       "How long have worked at this location                                                     NaN   \n",
       "Gss year for this respondent                                                         0.003646   \n",
       "\n",
       "                                                    Percentage of some college educ in maocc10 based on acs 2010  \\\n",
       "Miss work for health past 30 days                                                           -0.020229              \n",
       "Days of poor mental health past 30 days                                                      0.016117              \n",
       "Days of poor physical health past 30 days                                                   -0.030021              \n",
       "Percentage of some college educ in maocc10 base...                                           1.000000              \n",
       "Percentage of $45k+ earners in occ10 based on a...                                           0.124836              \n",
       "When did your last paid job end                                                             -0.079209              \n",
       "Number of hours worked last week                                                             0.026306              \n",
       "Respondent id number                                                                        -0.094350              \n",
       "How long have worked at this location                                                       -0.010920              \n",
       "Gss year for this respondent                                                                 0.106258              \n",
       "\n",
       "                                                    Percentage of $45k+ earners in occ10 based on acs 2010  \\\n",
       "Miss work for health past 30 days                                                           -0.033479        \n",
       "Days of poor mental health past 30 days                                                     -0.076500        \n",
       "Days of poor physical health past 30 days                                                   -0.073758        \n",
       "Percentage of some college educ in maocc10 base...                                           0.124836        \n",
       "Percentage of $45k+ earners in occ10 based on a...                                           1.000000        \n",
       "When did your last paid job end                                                              0.117585        \n",
       "Number of hours worked last week                                                             0.199867        \n",
       "Respondent id number                                                                        -0.067295        \n",
       "How long have worked at this location                                                        0.025403        \n",
       "Gss year for this respondent                                                                 0.019395        \n",
       "\n",
       "                                                    When did your last paid job end  \\\n",
       "Miss work for health past 30 days                                               NaN   \n",
       "Days of poor mental health past 30 days                                         NaN   \n",
       "Days of poor physical health past 30 days                                       NaN   \n",
       "Percentage of some college educ in maocc10 base...                        -0.079209   \n",
       "Percentage of $45k+ earners in occ10 based on a...                         0.117585   \n",
       "When did your last paid job end                                            1.000000   \n",
       "Number of hours worked last week                                           0.369236   \n",
       "Respondent id number                                                       0.098054   \n",
       "How long have worked at this location                                     -0.028234   \n",
       "Gss year for this respondent                                               0.328655   \n",
       "\n",
       "                                                    Number of hours worked last week  \\\n",
       "Miss work for health past 30 days                                          -0.111289   \n",
       "Days of poor mental health past 30 days                                    -0.010308   \n",
       "Days of poor physical health past 30 days                                  -0.053067   \n",
       "Percentage of some college educ in maocc10 base...                          0.026306   \n",
       "Percentage of $45k+ earners in occ10 based on a...                          0.199867   \n",
       "When did your last paid job end                                             0.369236   \n",
       "Number of hours worked last week                                            1.000000   \n",
       "Respondent id number                                                        0.028593   \n",
       "How long have worked at this location                                      -0.008411   \n",
       "Gss year for this respondent                                               -0.017030   \n",
       "\n",
       "                                                    Respondent id number  \\\n",
       "Miss work for health past 30 days                               0.003969   \n",
       "Days of poor mental health past 30 days                         0.005275   \n",
       "Days of poor physical health past 30 days                       0.008375   \n",
       "Percentage of some college educ in maocc10 base...             -0.094350   \n",
       "Percentage of $45k+ earners in occ10 based on a...             -0.067295   \n",
       "When did your last paid job end                                 0.098054   \n",
       "Number of hours worked last week                                0.028593   \n",
       "Respondent id number                                            1.000000   \n",
       "How long have worked at this location                          -0.006826   \n",
       "Gss year for this respondent                                   -0.109808   \n",
       "\n",
       "                                                    How long have worked at this location  \\\n",
       "Miss work for health past 30 days                                                     NaN   \n",
       "Days of poor mental health past 30 days                                               NaN   \n",
       "Days of poor physical health past 30 days                                             NaN   \n",
       "Percentage of some college educ in maocc10 base...                              -0.010920   \n",
       "Percentage of $45k+ earners in occ10 based on a...                               0.025403   \n",
       "When did your last paid job end                                                 -0.028234   \n",
       "Number of hours worked last week                                                -0.008411   \n",
       "Respondent id number                                                            -0.006826   \n",
       "How long have worked at this location                                            1.000000   \n",
       "Gss year for this respondent                                                    -0.164692   \n",
       "\n",
       "                                                    Gss year for this respondent  \n",
       "Miss work for health past 30 days                                       0.036412  \n",
       "Days of poor mental health past 30 days                                -0.014084  \n",
       "Days of poor physical health past 30 days                               0.003646  \n",
       "Percentage of some college educ in maocc10 base...                      0.106258  \n",
       "Percentage of $45k+ earners in occ10 based on a...                      0.019395  \n",
       "When did your last paid job end                                         0.328655  \n",
       "Number of hours worked last week                                       -0.017030  \n",
       "Respondent id number                                                   -0.109808  \n",
       "How long have worked at this location                                  -0.164692  \n",
       "Gss year for this respondent                                            1.000000  "
      ]
     },
     "execution_count": 6,
     "metadata": {},
     "output_type": "execute_result"
    }
   ],
   "source": [
    "corr = numeric.corr()\n",
    "corr"
   ]
  },
  {
   "cell_type": "code",
   "execution_count": 7,
   "metadata": {},
   "outputs": [
    {
     "name": "stdout",
     "output_type": "stream",
     "text": [
      "correlated:\n",
      "Miss work for health past 30 days + \n",
      " Days of poor physical health past 30 days\n",
      "0.41\n",
      "\n",
      "Days of poor mental health past 30 days + \n",
      " Days of poor physical health past 30 days\n",
      "0.31\n",
      "\n",
      "When did your last paid job end + \n",
      " Number of hours worked last week\n",
      "0.37\n",
      "\n",
      "When did your last paid job end + \n",
      " Gss year for this respondent\n",
      "0.33\n",
      "\n"
     ]
    },
    {
     "name": "stderr",
     "output_type": "stream",
     "text": [
      "/Users/mgbvox/anaconda3/envs/data_science/lib/python3.6/site-packages/ipykernel_launcher.py:2: RuntimeWarning: invalid value encountered in greater\n",
      "  \n"
     ]
    }
   ],
   "source": [
    "thresh = 0.3\n",
    "x,y = np.where((corr.values>thresh)&(corr.values != 1))\n",
    "print('correlated:')\n",
    "visited = set()\n",
    "for i,j in zip(x,y):\n",
    "    if (j,i) not in visited:\n",
    "        print(f'{corr.index[i]} + \\n {corr.index[j]}')\n",
    "        print(np.round(corr.values[i,j], 2))\n",
    "        print()\n",
    "        visited.add((i,j))"
   ]
  },
  {
   "cell_type": "code",
   "execution_count": 8,
   "metadata": {},
   "outputs": [],
   "source": [
    "'''\n",
    "Exporting Numeric Correlated Data\n",
    "'''\n",
    "\n",
    "to_export = [\n",
    "    'Miss work for health past 30 days',\n",
    "    'Days of poor physical health past 30 days',\n",
    "    'Days of poor mental health past 30 days',\n",
    "    'When did your last paid job end',\n",
    "    'Number of hours worked last week',\n",
    "    'Gss year for this respondent'\n",
    "]\n",
    "\n",
    "numeric[to_export].to_csv('numeric_correlated.csv')"
   ]
  },
  {
   "cell_type": "code",
   "execution_count": 9,
   "metadata": {},
   "outputs": [],
   "source": [
    "#Are health outcomes related to quality of work or working standards?"
   ]
  },
  {
   "cell_type": "code",
   "execution_count": 133,
   "metadata": {},
   "outputs": [
    {
     "data": {
      "text/plain": [
       "<matplotlib.axes._subplots.AxesSubplot at 0x12913b748>"
      ]
     },
     "execution_count": 133,
     "metadata": {},
     "output_type": "execute_result"
    },
    {
     "data": {
      "image/png": "[encoded data removed]",
      "text/plain": [
       "<Figure size 432x288 with 1 Axes>"
      ]
     },
     "metadata": {
      "needs_background": "light"
     },
     "output_type": "display_data"
    }
   ],
   "source": [
    "numeric.plot.scatter('Miss work for health past 30 days', 'Days of poor physical health past 30 days')"
   ]
  },
  {
   "cell_type": "code",
   "execution_count": 10,
   "metadata": {},
   "outputs": [],
   "source": [
    "non_numeric = data[list(set(data.columns)-set(numeric.columns))]\n"
   ]
  },
  {
   "cell_type": "code",
   "execution_count": 11,
   "metadata": {},
   "outputs": [
    {
     "data": {
      "text/plain": [
       "[<matplotlib.lines.Line2D at 0x11b3490f0>]"
      ]
     },
     "execution_count": 11,
     "metadata": {},
     "output_type": "execute_result"
    },
    {
     "data": {
      "image/png": "[encoded data removed]",
      "text/plain": [
       "<Figure size 432x288 with 1 Axes>"
      ]
     },
     "metadata": {
      "needs_background": "light"
     },
     "output_type": "display_data"
    }
   ],
   "source": [
    "'''\n",
    "Plot jumps in time when dropping NANs in non-numerical data.\n",
    "'''\n",
    "plt.plot(np.diff(non_numeric.dropna(thresh=10).index))"
   ]
  },
  {
   "cell_type": "code",
   "execution_count": 16,
   "metadata": {},
   "outputs": [
    {
     "name": "stderr",
     "output_type": "stream",
     "text": [
      "/Users/mgbvox/anaconda3/envs/data_science/lib/python3.6/site-packages/ipykernel_launcher.py:1: SettingWithCopyWarning: \n",
      "A value is trying to be set on a copy of a slice from a DataFrame.\n",
      "Try using .loc[row_indexer,col_indexer] = value instead\n",
      "\n",
      "See the caveats in the documentation: http://pandas.pydata.org/pandas-docs/stable/indexing.html#indexing-view-versus-copy\n",
      "  \"\"\"Entry point for launching an IPython kernel.\n"
     ]
    }
   ],
   "source": [
    "non_numeric['row_values'] = non_numeric.apply(lambda x: x.count(), axis=1)"
   ]
  },
  {
   "cell_type": "code",
   "execution_count": 12,
   "metadata": {},
   "outputs": [],
   "source": [
    "def label_encode(col, to_enc=[]):\n",
    "    labels = col.unique()\n",
    "    not_encoded = [l for l in labels if l not in to_enc]\n",
    "    enc = {v:i for i,v in enumerate(to_enc)}\n",
    "    for l in not_encoded:\n",
    "        enc[l] = np.nan\n",
    "    return col.apply(lambda x: enc[x])\n",
    "\n",
    "def chunk(df, get=[\"R's physical health\"], by='Gss year for this respondent'):\n",
    "    return {y:df[df[by]==y][get] for y in df[by].unique()}"
   ]
  },
  {
   "cell_type": "code",
   "execution_count": 13,
   "metadata": {},
   "outputs": [],
   "source": [
    "ind_health = pd.read_excel('industry_health/GSS.xlsx')\n",
    "ind_health.columns = [c.strip() for c in ind_health.columns]"
   ]
  },
  {
   "cell_type": "code",
   "execution_count": 14,
   "metadata": {},
   "outputs": [],
   "source": [
    "desired = ['Poor', 'Fair', 'Good', 'Excellent']\n",
    "ind_health['encoded_health'] = label_encode(ind_health['Condition of health'], to_enc=desired).dropna()"
   ]
  },
  {
   "cell_type": "code",
   "execution_count": 15,
   "metadata": {},
   "outputs": [
    {
     "data": {
      "text/plain": [
       "<matplotlib.axes._subplots.AxesSubplot at 0x119a86fd0>"
      ]
     },
     "execution_count": 15,
     "metadata": {},
     "output_type": "execute_result"
    },
    {
     "data": {
      "image/png": "[encoded data removed]",
      "text/plain": [
       "<Figure size 432x288 with 1 Axes>"
      ]
     },
     "metadata": {
      "needs_background": "light"
     },
     "output_type": "display_data"
    }
   ],
   "source": [
    "ind_health.groupby('Gss year for this respondent').mean()['encoded_health'].dropna().plot(title='Average Health in the Workplace over Time')"
   ]
  },
  {
   "cell_type": "code",
   "execution_count": 16,
   "metadata": {},
   "outputs": [],
   "source": [
    "health_by_year = chunk(ind_health, get='encoded_health', by='Gss year for this respondent')"
   ]
  },
  {
   "cell_type": "code",
   "execution_count": 21,
   "metadata": {},
   "outputs": [],
   "source": [
    "health_all_years = pd.concat([v.reset_index(drop=True) for k,v in health_by_year.items()], axis=1)\n",
    "health_all_years.columns = [k for k,v in health_by_year.items()]"
   ]
  },
  {
   "cell_type": "code",
   "execution_count": 24,
   "metadata": {},
   "outputs": [],
   "source": [
    "health_all_years.to_csv('health_by_year.csv')"
   ]
  },
  {
   "cell_type": "code",
   "execution_count": 25,
   "metadata": {},
   "outputs": [
    {
     "name": "stdout",
     "output_type": "stream",
     "text": [
      "1.2773716474232644e-08\n",
      "Statistically Different!\n"
     ]
    }
   ],
   "source": [
    "d1 = health_by_year[1996].dropna()\n",
    "\n",
    "d2 = health_by_year[2010].dropna()\n",
    "\n",
    "p_thresh = 0.05\n",
    "\n",
    "print(ttest_ind(d1, d2).pvalue)\n",
    "\n",
    "if ttest_ind(d1, d2).pvalue < p_thresh:\n",
    "    print('Statistically Different!')\n",
    "else:\n",
    "    print('Cannot reject null hypothesis.')"
   ]
  },
  {
   "cell_type": "code",
   "execution_count": 45,
   "metadata": {},
   "outputs": [],
   "source": [
    "oh_health = pd.get_dummies(ind_health['encoded_health'].dropna())"
   ]
  },
  {
   "cell_type": "code",
   "execution_count": 46,
   "metadata": {},
   "outputs": [],
   "source": [
    "oh_ind = pd.get_dummies(ind_health['Rs industry code (naics 2007)'].dropna())"
   ]
  },
  {
   "cell_type": "code",
   "execution_count": 47,
   "metadata": {},
   "outputs": [],
   "source": [
    "train_data = pd.DataFrame(ind_health['encoded_health']).join(oh_ind).dropna().values\n",
    "train_y = train_data[:,:1].ravel()\n",
    "train_x = train_data[:,1:]"
   ]
  },
  {
   "cell_type": "code",
   "execution_count": 48,
   "metadata": {},
   "outputs": [],
   "source": [
    "from sklearn.linear_model import LogisticRegression"
   ]
  },
  {
   "cell_type": "code",
   "execution_count": 49,
   "metadata": {},
   "outputs": [
    {
     "name": "stderr",
     "output_type": "stream",
     "text": [
      "/Users/mgbvox/anaconda3/envs/data_science/lib/python3.6/site-packages/sklearn/linear_model/logistic.py:947: ConvergenceWarning: lbfgs failed to converge. Increase the number of iterations.\n",
      "  \"of iterations.\", ConvergenceWarning)\n"
     ]
    },
    {
     "data": {
      "text/plain": [
       "LogisticRegression(C=1.0, class_weight=None, dual=False, fit_intercept=True,\n",
       "                   intercept_scaling=1, l1_ratio=None, max_iter=100,\n",
       "                   multi_class='multinomial', n_jobs=None, penalty='l2',\n",
       "                   random_state=0, solver='lbfgs', tol=0.0001, verbose=0,\n",
       "                   warm_start=False)"
      ]
     },
     "execution_count": 49,
     "metadata": {},
     "output_type": "execute_result"
    }
   ],
   "source": [
    "model = LogisticRegression(random_state=0, solver='lbfgs', multi_class='multinomial')\n",
    "model.fit(train_x, train_y)"
   ]
  },
  {
   "cell_type": "code",
   "execution_count": 50,
   "metadata": {},
   "outputs": [
    {
     "data": {
      "text/plain": [
       "0.4550115570498004"
      ]
     },
     "execution_count": 50,
     "metadata": {},
     "output_type": "execute_result"
    }
   ],
   "source": [
    "model.score(train_x, train_y)"
   ]
  },
  {
   "cell_type": "code",
   "execution_count": 51,
   "metadata": {},
   "outputs": [],
   "source": [
    "import keras\n",
    "from keras.models import Sequential\n",
    "from keras.layers import Dense\n",
    "from keras.optimizers import Adam"
   ]
  },
  {
   "cell_type": "code",
   "execution_count": 65,
   "metadata": {},
   "outputs": [],
   "source": [
    "\n"
   ]
  },
  {
   "cell_type": "code",
   "execution_count": 66,
   "metadata": {},
   "outputs": [],
   "source": [
    "d_idxs = oh_health.index.intersection(oh_ind.index).values\n",
    "train_y_oh = oh_health.loc[d_idxs].values\n",
    "train_x_oh = oh_ind.loc[d_idxs].values"
   ]
  },
  {
   "cell_type": "code",
   "execution_count": 73,
   "metadata": {},
   "outputs": [
    {
     "name": "stdout",
     "output_type": "stream",
     "text": [
      "Epoch 1/10\n",
      "47590/47590 [==============================] - 2s 48us/step - loss: 0.5941 - acc: 0.7449\n",
      "Epoch 2/10\n",
      "47590/47590 [==============================] - 2s 43us/step - loss: 0.5415 - acc: 0.7476\n",
      "Epoch 3/10\n",
      "47590/47590 [==============================] - 2s 42us/step - loss: 0.5823 - acc: 0.7487\n",
      "Epoch 4/10\n",
      "47590/47590 [==============================] - 2s 42us/step - loss: 0.5754 - acc: 0.7489\n",
      "Epoch 5/10\n",
      "47590/47590 [==============================] - 2s 42us/step - loss: 0.5337 - acc: 0.7498\n",
      "Epoch 6/10\n",
      "47590/47590 [==============================] - 2s 42us/step - loss: 0.5135 - acc: 0.7500\n",
      "Epoch 7/10\n",
      "47590/47590 [==============================] - 2s 41us/step - loss: 0.5063 - acc: 0.7495\n",
      "Epoch 8/10\n",
      "47590/47590 [==============================] - 2s 42us/step - loss: 0.5029 - acc: 0.7501\n",
      "Epoch 9/10\n",
      "47590/47590 [==============================] - 2s 43us/step - loss: 0.5020 - acc: 0.7496\n",
      "Epoch 10/10\n",
      "47590/47590 [==============================] - 2s 42us/step - loss: 0.5006 - acc: 0.7502\n"
     ]
    }
   ],
   "source": [
    "nn = Sequential()\n",
    "nn.add(Dense(64, input_shape=(train_x.shape[1],)))\n",
    "nn.add(Dense(train_y_oh.shape[1]))\n",
    "\n",
    "optim = Adam(lr=0.001)\n",
    "nn.compile(optim, loss='binary_crossentropy', metrics=['accuracy'])\n",
    "\n",
    "history = nn.fit(train_x, train_y_oh, epochs=10, batch_size=32)"
   ]
  },
  {
   "cell_type": "code",
   "execution_count": 74,
   "metadata": {},
   "outputs": [
    {
     "name": "stdout",
     "output_type": "stream",
     "text": [
      "_________________________________________________________________\n",
      "Layer (type)                 Output Shape              Param #   \n",
      "=================================================================\n",
      "dense_7 (Dense)              (None, 64)                17536     \n",
      "_________________________________________________________________\n",
      "dense_8 (Dense)              (None, 4)                 260       \n",
      "=================================================================\n",
      "Total params: 17,796\n",
      "Trainable params: 17,796\n",
      "Non-trainable params: 0\n",
      "_________________________________________________________________\n"
     ]
    }
   ],
   "source": [
    "nn.summary()"
   ]
  },
  {
   "cell_type": "code",
   "execution_count": 75,
   "metadata": {},
   "outputs": [
    {
     "data": {
      "text/plain": [
       "'Motor vehicles and motor vehicle equipment manufacturing'"
      ]
     },
     "execution_count": 75,
     "metadata": {},
     "output_type": "execute_result"
    }
   ],
   "source": [
    "oh_ind.columns[145]"
   ]
  },
  {
   "cell_type": "code",
   "execution_count": 83,
   "metadata": {},
   "outputs": [
    {
     "data": {
      "text/plain": [
       "0.9857322967009876"
      ]
     },
     "execution_count": 83,
     "metadata": {},
     "output_type": "execute_result"
    }
   ],
   "source": [
    "sum(np.argmax(nn.predict(train_x_oh), axis=1)==np.argmax(train_y_oh))/len(train_x_oh)"
   ]
  },
  {
   "cell_type": "code",
   "execution_count": 85,
   "metadata": {},
   "outputs": [
    {
     "data": {
      "text/plain": [
       "[<matplotlib.lines.Line2D at 0x125cf5278>]"
      ]
     },
     "execution_count": 85,
     "metadata": {},
     "output_type": "execute_result"
    },
    {
     "data": {
      "image/png": "[encoded data removed]",
      "text/plain": [
       "<Figure size 432x288 with 1 Axes>"
      ]
     },
     "metadata": {
      "needs_background": "light"
     },
     "output_type": "display_data"
    }
   ],
   "source": [
    "plt.plot(history.history['loss'])"
   ]
  },
  {
   "cell_type": "code",
   "execution_count": null,
   "metadata": {},
   "outputs": [],
   "source": []
  },
  {
   "cell_type": "code",
   "execution_count": 86,
   "metadata": {},
   "outputs": [],
   "source": [
    "#T tests and tests for normalcy - we can go over this later!"
   ]
  },
  {
   "cell_type": "code",
   "execution_count": 157,
   "metadata": {},
   "outputs": [
    {
     "data": {
      "text/plain": [
       "<matplotlib.axes._subplots.AxesSubplot at 0x129124160>"
      ]
     },
     "execution_count": 157,
     "metadata": {},
     "output_type": "execute_result"
    },
    {
     "data": {
      "image/png": "[encoded data removed]",
      "text/plain": [
       "<Figure size 432x288 with 1 Axes>"
      ]
     },
     "metadata": {
      "needs_background": "light"
     },
     "output_type": "display_data"
    }
   ],
   "source": [
    "wrk_2014 = pd.Series([cast_to_float(v) for v in hrs_by_year[2014].values]).dropna()\n",
    "wrk_2014.plot.hist(bins=20)"
   ]
  },
  {
   "cell_type": "code",
   "execution_count": 158,
   "metadata": {},
   "outputs": [
    {
     "data": {
      "text/plain": [
       "<matplotlib.axes._subplots.AxesSubplot at 0x12d21aeb8>"
      ]
     },
     "execution_count": 158,
     "metadata": {},
     "output_type": "execute_result"
    },
    {
     "data": {
      "image/png": "[encoded data removed]",
      "text/plain": [
       "<Figure size 432x288 with 1 Axes>"
      ]
     },
     "metadata": {
      "needs_background": "light"
     },
     "output_type": "display_data"
    }
   ],
   "source": [
    "wrk_2018 = pd.Series([cast_to_float(v) for v in hrs_by_year[2018].values]).dropna()\n",
    "wrk_2018.plot.hist(bins=20)"
   ]
  },
  {
   "cell_type": "code",
   "execution_count": 159,
   "metadata": {},
   "outputs": [
    {
     "data": {
      "text/plain": [
       "Ttest_indResult(statistic=1.1618067446421967, pvalue=0.24541024727812655)"
      ]
     },
     "execution_count": 159,
     "metadata": {},
     "output_type": "execute_result"
    }
   ],
   "source": [
    "ttest_ind(wrk_2014, wrk_2018)"
   ]
  },
  {
   "cell_type": "code",
   "execution_count": 269,
   "metadata": {},
   "outputs": [],
   "source": [
    "from scipy import stats"
   ]
  },
  {
   "cell_type": "code",
   "execution_count": 270,
   "metadata": {},
   "outputs": [
    {
     "data": {
      "text/plain": [
       "NormaltestResult(statistic=58.404487843074406, pvalue=2.0779093901795074e-13)"
      ]
     },
     "execution_count": 270,
     "metadata": {},
     "output_type": "execute_result"
    }
   ],
   "source": [
    "stats.normaltest(wrk_2014)"
   ]
  },
  {
   "cell_type": "code",
   "execution_count": 318,
   "metadata": {},
   "outputs": [],
   "source": [
    "from statsmodels.graphics.gofplots import qqplot\n",
    "from scipy.stats import shapiro, anderson, entropy, norm"
   ]
  },
  {
   "cell_type": "code",
   "execution_count": 273,
   "metadata": {},
   "outputs": [
    {
     "data": {
      "image/png": "[encoded data removed]",
      "text/plain": [
       "<Figure size 432x288 with 1 Axes>"
      ]
     },
     "execution_count": 273,
     "metadata": {},
     "output_type": "execute_result"
    },
    {
     "data": {
      "image/png": "[encoded data removed]",
      "text/plain": [
       "<Figure size 432x288 with 1 Axes>"
      ]
     },
     "metadata": {
      "needs_background": "light"
     },
     "output_type": "display_data"
    }
   ],
   "source": [
    "qqplot(wrk_2014.values)"
   ]
  },
  {
   "cell_type": "code",
   "execution_count": 275,
   "metadata": {},
   "outputs": [
    {
     "data": {
      "text/plain": [
       "(0.9550634026527405, 3.517626590794951e-20)"
      ]
     },
     "execution_count": 275,
     "metadata": {},
     "output_type": "execute_result"
    }
   ],
   "source": [
    "shapiro(wrk_2018)"
   ]
  },
  {
   "cell_type": "code",
   "execution_count": 277,
   "metadata": {},
   "outputs": [
    {
     "data": {
      "text/plain": [
       "AndersonResult(statistic=28.529554197746847, critical_values=array([0.574, 0.654, 0.785, 0.915, 1.089]), significance_level=array([15. , 10. ,  5. ,  2.5,  1. ]))"
      ]
     },
     "execution_count": 277,
     "metadata": {},
     "output_type": "execute_result"
    }
   ],
   "source": [
    "anderson(wrk_2018)"
   ]
  },
  {
   "cell_type": "code",
   "execution_count": 338,
   "metadata": {},
   "outputs": [
    {
     "data": {
      "image/png": "[encoded data removed]",
      "text/plain": [
       "<Figure size 432x288 with 1 Axes>"
      ]
     },
     "metadata": {
      "needs_background": "light"
     },
     "output_type": "display_data"
    }
   ],
   "source": [
    "n = 1000\n",
    "b = 20\n",
    "normal_sample = np.random.randn(n)\n",
    "normal_2 = np.random.randn(n) + 2\n",
    "plt.hist(normal_sample, bins=b)\n",
    "plt.hist(normal_2, bins=b)\n",
    "plt.show()"
   ]
  },
  {
   "cell_type": "code",
   "execution_count": 339,
   "metadata": {},
   "outputs": [],
   "source": [
    "def kl_divergence(p, q):\n",
    "    return np.sum(np.where(p != 0, p * np.log(p / q), 0))"
   ]
  },
  {
   "cell_type": "code",
   "execution_count": 340,
   "metadata": {},
   "outputs": [
    {
     "data": {
      "text/plain": [
       "Ttest_indResult(statistic=-44.83095320250397, pvalue=2.462899215705232e-304)"
      ]
     },
     "execution_count": 340,
     "metadata": {},
     "output_type": "execute_result"
    }
   ],
   "source": [
    "ttest_ind(normal_sample, normal_2)"
   ]
  },
  {
   "cell_type": "code",
   "execution_count": 311,
   "metadata": {},
   "outputs": [],
   "source": [
    "def get_freqs(s,b):\n",
    "    _, counts = np.unique(pd.cut(pd.Series(normal_sample),b), return_counts=True)\n",
    "    return [c/sum(counts) for c in counts]"
   ]
  },
  {
   "cell_type": "code",
   "execution_count": 313,
   "metadata": {},
   "outputs": [],
   "source": [
    "f1 = get_freqs(normal_sample,b)\n",
    "f2 = get_freqs(normal_2, b)"
   ]
  },
  {
   "cell_type": "code",
   "execution_count": 335,
   "metadata": {},
   "outputs": [
    {
     "data": {
      "image/png": "[encoded data removed]",
      "text/plain": [
       "<Figure size 432x288 with 1 Axes>"
      ]
     },
     "metadata": {
      "needs_background": "light"
     },
     "output_type": "display_data"
    }
   ],
   "source": [
    "x = np.linspace(-5, 5, 100)\n",
    "\n",
    "y = norm(0,1).pdf(x)\n",
    "y2 = norm(2,1).pdf(x)\n",
    "\n",
    "plt.scatter(x,y)\n",
    "plt.scatter(x,y2)\n",
    "plt.show()"
   ]
  },
  {
   "cell_type": "code",
   "execution_count": 333,
   "metadata": {},
   "outputs": [
    {
     "data": {
      "text/plain": [
       "1.9988624280826621"
      ]
     },
     "execution_count": 333,
     "metadata": {},
     "output_type": "execute_result"
    }
   ],
   "source": [
    "entropy(y, y2)"
   ]
  },
  {
   "cell_type": "code",
   "execution_count": null,
   "metadata": {},
   "outputs": [],
   "source": []
  }
 ],
 "metadata": {
  "kernelspec": {
   "display_name": "data_science",
   "language": "python",
   "name": "data_science"
  },
  "language_info": {
   "codemirror_mode": {
    "name": "ipython",
    "version": 3
   },
   "file_extension": ".py",
   "mimetype": "text/x-python",
   "name": "python",
   "nbconvert_exporter": "python",
   "pygments_lexer": "ipython3",
   "version": "3.6.7"
  }
 },
 "nbformat": 4,
 "nbformat_minor": 2
}
